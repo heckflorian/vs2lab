{
 "cells": [
  {
   "cell_type": "markdown",
   "metadata": {},
   "source": [
    "# Running server and client in a single notebook \n",
    "Note: not working with Windows\n",
    "## Server part\n"
   ]
  },
  {
   "cell_type": "code",
   "execution_count": 1,
   "metadata": {},
   "outputs": [
    {
     "name": "stderr",
     "output_type": "stream",
     "text": [
      "2024-11-07 13:33:22,684 - vs2lab.lab1.clientserver.Server - INFO - Server bound to socket <socket.socket fd=70, family=2, type=1, proto=0, laddr=('127.0.0.1', 50007)>\n"
     ]
    }
   ],
   "source": [
    "import clientserver # import from our script\n",
    "import os # os module needed for spawning another process\n",
    "\n",
    "server = clientserver.Server() # Create a server instance\n",
    "    \n",
    "pid = os.fork() # we need to fork here in order not to block the notebook\n",
    "if pid == 0: # run server in forked process\n",
    "    server.serve() # start server routine in the forked process\n",
    "    os._exit(0) # after finisching the server routine, kill the forked process"
   ]
  },
  {
   "cell_type": "markdown",
   "metadata": {},
   "source": [
    "## Client\n",
    "Now create a client object and call the server"
   ]
  },
  {
   "cell_type": "code",
   "execution_count": 2,
   "metadata": {},
   "outputs": [
    {
     "name": "stderr",
     "output_type": "stream",
     "text": [
      "2024-11-07 13:33:22,696 - vs2lab.a1_layers.clientserver.Client - INFO - Client connected to socket <socket.socket fd=71, family=2, type=1, proto=0, laddr=('127.0.0.1', 55068), raddr=('127.0.0.1', 50007)>\n",
      "2024-11-07 13:33:22,698 - vs2lab.a1_layers.clientserver.Client - INFO - Sending GET query for: Florian\n"
     ]
    },
    {
     "name": "stderr",
     "output_type": "stream",
     "text": [
      "2024-11-07 13:33:22,699 - vs2lab.lab1.clientserver.Server - INFO - Received message GET&Florian\n",
      "2024-11-07 13:33:22,703 - vs2lab.lab1.clientserver.Server - INFO - Received GET request with query Florian\n",
      "2024-11-07 13:33:22,706 - vs2lab.lab1.clientserver.Server - INFO - Found entry 13899985\n",
      "2024-11-07 13:33:22,716 - vs2lab.lab1.clientserver.Server - INFO - Received message GETALL\n",
      "2024-11-07 13:33:22,718 - vs2lab.lab1.clientserver.Server - INFO - Received GETALL request\n"
     ]
    },
    {
     "data": {
      "text/plain": [
       "'13899985'"
      ]
     },
     "execution_count": 2,
     "metadata": {},
     "output_type": "execute_result"
    }
   ],
   "source": [
    "import clientserver # import from our script\n",
    "\n",
    "client = clientserver.Client() # Create a client instance\n",
    "\n",
    "\n",
    "# Use the client to query a single user\n",
    "client.get(\"Florian\") \n"
   ]
  },
  {
   "cell_type": "code",
   "execution_count": 3,
   "metadata": {},
   "outputs": [
    {
     "name": "stderr",
     "output_type": "stream",
     "text": [
      "2024-11-07 13:33:22,715 - vs2lab.a1_layers.clientserver.Client - INFO - Sending GETALL request\n"
     ]
    },
    {
     "data": {
      "text/plain": [
       "'{\"Florian\": \"13899985\", \"Maximilian\": \"762843\", \"Testmensch\": \"00000\"}'"
      ]
     },
     "execution_count": 3,
     "metadata": {},
     "output_type": "execute_result"
    }
   ],
   "source": [
    "\n",
    "# Query all available users\n",
    "client.get_all()"
   ]
  },
  {
   "cell_type": "markdown",
   "metadata": {},
   "source": [
    "That was all. The server process has terminated as well after returning the echo message."
   ]
  }
 ],
 "metadata": {
  "kernelspec": {
   "display_name": "vs2lab-uWc7IIUF",
   "language": "python",
   "name": "python3"
  },
  "language_info": {
   "codemirror_mode": {
    "name": "ipython",
    "version": 3
   },
   "file_extension": ".py",
   "mimetype": "text/x-python",
   "name": "python",
   "nbconvert_exporter": "python",
   "pygments_lexer": "ipython3",
   "version": "3.11.4"
  }
 },
 "nbformat": 4,
 "nbformat_minor": 2
}
